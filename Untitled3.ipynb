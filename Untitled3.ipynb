{
  "nbformat": 4,
  "nbformat_minor": 0,
  "metadata": {
    "colab": {
      "provenance": []
    },
    "kernelspec": {
      "name": "python3",
      "display_name": "Python 3"
    },
    "language_info": {
      "name": "python"
    }
  },
  "cells": [
    {
      "cell_type": "markdown",
      "source": [
        "# Load Data\n",
        "**bold text**"
      ],
      "metadata": {
        "id": "XmIG4hyXr2ma"
      }
    },
    {
      "cell_type": "code",
      "execution_count": 2,
      "metadata": {
        "id": "1WQJiBeqkVG8",
        "colab": {
          "base_uri": "https://localhost:8080/",
          "height": 73
        },
        "outputId": "b163ae66-e668-4b72-88ca-38459fc08579"
      },
      "outputs": [
        {
          "output_type": "display_data",
          "data": {
            "text/plain": [
              "<IPython.core.display.HTML object>"
            ],
            "text/html": [
              "\n",
              "     <input type=\"file\" id=\"files-05b88dd3-99f4-46ab-9c79-80fca7c49e24\" name=\"files[]\" multiple disabled\n",
              "        style=\"border:none\" />\n",
              "     <output id=\"result-05b88dd3-99f4-46ab-9c79-80fca7c49e24\">\n",
              "      Upload widget is only available when the cell has been executed in the\n",
              "      current browser session. Please rerun this cell to enable.\n",
              "      </output>\n",
              "      <script>// Copyright 2017 Google LLC\n",
              "//\n",
              "// Licensed under the Apache License, Version 2.0 (the \"License\");\n",
              "// you may not use this file except in compliance with the License.\n",
              "// You may obtain a copy of the License at\n",
              "//\n",
              "//      http://www.apache.org/licenses/LICENSE-2.0\n",
              "//\n",
              "// Unless required by applicable law or agreed to in writing, software\n",
              "// distributed under the License is distributed on an \"AS IS\" BASIS,\n",
              "// WITHOUT WARRANTIES OR CONDITIONS OF ANY KIND, either express or implied.\n",
              "// See the License for the specific language governing permissions and\n",
              "// limitations under the License.\n",
              "\n",
              "/**\n",
              " * @fileoverview Helpers for google.colab Python module.\n",
              " */\n",
              "(function(scope) {\n",
              "function span(text, styleAttributes = {}) {\n",
              "  const element = document.createElement('span');\n",
              "  element.textContent = text;\n",
              "  for (const key of Object.keys(styleAttributes)) {\n",
              "    element.style[key] = styleAttributes[key];\n",
              "  }\n",
              "  return element;\n",
              "}\n",
              "\n",
              "// Max number of bytes which will be uploaded at a time.\n",
              "const MAX_PAYLOAD_SIZE = 100 * 1024;\n",
              "\n",
              "function _uploadFiles(inputId, outputId) {\n",
              "  const steps = uploadFilesStep(inputId, outputId);\n",
              "  const outputElement = document.getElementById(outputId);\n",
              "  // Cache steps on the outputElement to make it available for the next call\n",
              "  // to uploadFilesContinue from Python.\n",
              "  outputElement.steps = steps;\n",
              "\n",
              "  return _uploadFilesContinue(outputId);\n",
              "}\n",
              "\n",
              "// This is roughly an async generator (not supported in the browser yet),\n",
              "// where there are multiple asynchronous steps and the Python side is going\n",
              "// to poll for completion of each step.\n",
              "// This uses a Promise to block the python side on completion of each step,\n",
              "// then passes the result of the previous step as the input to the next step.\n",
              "function _uploadFilesContinue(outputId) {\n",
              "  const outputElement = document.getElementById(outputId);\n",
              "  const steps = outputElement.steps;\n",
              "\n",
              "  const next = steps.next(outputElement.lastPromiseValue);\n",
              "  return Promise.resolve(next.value.promise).then((value) => {\n",
              "    // Cache the last promise value to make it available to the next\n",
              "    // step of the generator.\n",
              "    outputElement.lastPromiseValue = value;\n",
              "    return next.value.response;\n",
              "  });\n",
              "}\n",
              "\n",
              "/**\n",
              " * Generator function which is called between each async step of the upload\n",
              " * process.\n",
              " * @param {string} inputId Element ID of the input file picker element.\n",
              " * @param {string} outputId Element ID of the output display.\n",
              " * @return {!Iterable<!Object>} Iterable of next steps.\n",
              " */\n",
              "function* uploadFilesStep(inputId, outputId) {\n",
              "  const inputElement = document.getElementById(inputId);\n",
              "  inputElement.disabled = false;\n",
              "\n",
              "  const outputElement = document.getElementById(outputId);\n",
              "  outputElement.innerHTML = '';\n",
              "\n",
              "  const pickedPromise = new Promise((resolve) => {\n",
              "    inputElement.addEventListener('change', (e) => {\n",
              "      resolve(e.target.files);\n",
              "    });\n",
              "  });\n",
              "\n",
              "  const cancel = document.createElement('button');\n",
              "  inputElement.parentElement.appendChild(cancel);\n",
              "  cancel.textContent = 'Cancel upload';\n",
              "  const cancelPromise = new Promise((resolve) => {\n",
              "    cancel.onclick = () => {\n",
              "      resolve(null);\n",
              "    };\n",
              "  });\n",
              "\n",
              "  // Wait for the user to pick the files.\n",
              "  const files = yield {\n",
              "    promise: Promise.race([pickedPromise, cancelPromise]),\n",
              "    response: {\n",
              "      action: 'starting',\n",
              "    }\n",
              "  };\n",
              "\n",
              "  cancel.remove();\n",
              "\n",
              "  // Disable the input element since further picks are not allowed.\n",
              "  inputElement.disabled = true;\n",
              "\n",
              "  if (!files) {\n",
              "    return {\n",
              "      response: {\n",
              "        action: 'complete',\n",
              "      }\n",
              "    };\n",
              "  }\n",
              "\n",
              "  for (const file of files) {\n",
              "    const li = document.createElement('li');\n",
              "    li.append(span(file.name, {fontWeight: 'bold'}));\n",
              "    li.append(span(\n",
              "        `(${file.type || 'n/a'}) - ${file.size} bytes, ` +\n",
              "        `last modified: ${\n",
              "            file.lastModifiedDate ? file.lastModifiedDate.toLocaleDateString() :\n",
              "                                    'n/a'} - `));\n",
              "    const percent = span('0% done');\n",
              "    li.appendChild(percent);\n",
              "\n",
              "    outputElement.appendChild(li);\n",
              "\n",
              "    const fileDataPromise = new Promise((resolve) => {\n",
              "      const reader = new FileReader();\n",
              "      reader.onload = (e) => {\n",
              "        resolve(e.target.result);\n",
              "      };\n",
              "      reader.readAsArrayBuffer(file);\n",
              "    });\n",
              "    // Wait for the data to be ready.\n",
              "    let fileData = yield {\n",
              "      promise: fileDataPromise,\n",
              "      response: {\n",
              "        action: 'continue',\n",
              "      }\n",
              "    };\n",
              "\n",
              "    // Use a chunked sending to avoid message size limits. See b/62115660.\n",
              "    let position = 0;\n",
              "    do {\n",
              "      const length = Math.min(fileData.byteLength - position, MAX_PAYLOAD_SIZE);\n",
              "      const chunk = new Uint8Array(fileData, position, length);\n",
              "      position += length;\n",
              "\n",
              "      const base64 = btoa(String.fromCharCode.apply(null, chunk));\n",
              "      yield {\n",
              "        response: {\n",
              "          action: 'append',\n",
              "          file: file.name,\n",
              "          data: base64,\n",
              "        },\n",
              "      };\n",
              "\n",
              "      let percentDone = fileData.byteLength === 0 ?\n",
              "          100 :\n",
              "          Math.round((position / fileData.byteLength) * 100);\n",
              "      percent.textContent = `${percentDone}% done`;\n",
              "\n",
              "    } while (position < fileData.byteLength);\n",
              "  }\n",
              "\n",
              "  // All done.\n",
              "  yield {\n",
              "    response: {\n",
              "      action: 'complete',\n",
              "    }\n",
              "  };\n",
              "}\n",
              "\n",
              "scope.google = scope.google || {};\n",
              "scope.google.colab = scope.google.colab || {};\n",
              "scope.google.colab._files = {\n",
              "  _uploadFiles,\n",
              "  _uploadFilesContinue,\n",
              "};\n",
              "})(self);\n",
              "</script> "
            ]
          },
          "metadata": {}
        },
        {
          "output_type": "stream",
          "name": "stdout",
          "text": [
            "Saving kaggle_survey_2017_2021.csv to kaggle_survey_2017_2021.csv\n"
          ]
        }
      ],
      "source": [
        "from google.colab import files\n",
        "uploaded = files.upload()\n",
        "\n"
      ]
    },
    {
      "cell_type": "markdown",
      "source": [
        "# Import Libraries\n"
      ],
      "metadata": {
        "id": "XU20HCrVsGZg"
      }
    },
    {
      "cell_type": "code",
      "source": [
        "import pandas as pd\n",
        "import matplotlib.pyplot as plt\n",
        "import seaborn as sns"
      ],
      "metadata": {
        "id": "gzfJvDnAsNy7"
      },
      "execution_count": 4,
      "outputs": []
    },
    {
      "cell_type": "code",
      "source": [
        "df = pd.read_csv(\"kaggle_survey_2017_2021.csv\", header=1, low_memory=False)\n",
        "\n",
        "print(\"Dataset Shape:\", df.shape)\n",
        "print(\"Columns Sample:\", df.columns[:10])"
      ],
      "metadata": {
        "colab": {
          "base_uri": "https://localhost:8080/"
        },
        "id": "GBO1HAPbsvVV",
        "outputId": "397ef63b-d805-461a-fba1-5946004ee18e"
      },
      "execution_count": 5,
      "outputs": [
        {
          "output_type": "stream",
          "name": "stdout",
          "text": [
            "Dataset Shape: (106301, 293)\n",
            "Columns Sample: Index(['Year', 'Duration (in seconds)', 'What is your age (# years)?',\n",
            "       'What is your gender? - Selected Choice',\n",
            "       'In which country do you currently reside?',\n",
            "       'What is the highest level of formal education that you have attained or plan to attain within the next 2 years?',\n",
            "       'Select the title most similar to your current role (or most recent title if retired): - Selected Choice',\n",
            "       'For how many years have you been writing code and/or programming?',\n",
            "       'What programming languages do you use on a regular basis? (Select all that apply) - Selected Choice - Python',\n",
            "       'What programming languages do you use on a regular basis? (Select all that apply) - Selected Choice - R'],\n",
            "      dtype='object')\n"
          ]
        }
      ]
    },
    {
      "cell_type": "markdown",
      "source": [
        "# Select Key Columns"
      ],
      "metadata": {
        "id": "nUxRbRuds3rU"
      }
    },
    {
      "cell_type": "code",
      "source": [
        "columns_to_keep = [\n",
        "    \"What is your age (# years)?\",\n",
        "    \"What is your gender? - Selected Choice\",\n",
        "    \"In which country do you currently reside?\",\n",
        "    \"What is the highest level of formal education that you have attained or plan to attain within the next 2 years?\",\n",
        "    \"Select the title most similar to your current role (or most recent title if retired): - Selected Choice\",\n",
        "    \"For how many years have you been writing code and/or programming?\",\n",
        "    \"What programming languages do you use on a regular basis? (Select all that apply) - Selected Choice - Python\",\n",
        "    \"What programming languages do you use on a regular basis? (Select all that apply) - Selected Choice - R\",\n",
        "    \"What programming languages do you use on a regular basis? (Select all that apply) - Selected Choice - SQL\",\n",
        "    \"What programming languages do you use on a regular basis? (Select all that apply) - Selected Choice - Java\",\n",
        "]\n",
        "df_small = df[columns_to_keep].copy()\n"
      ],
      "metadata": {
        "id": "LRGvUDThs70n"
      },
      "execution_count": 6,
      "outputs": []
    },
    {
      "cell_type": "markdown",
      "source": [
        "# . Data Cleaning"
      ],
      "metadata": {
        "id": "urk0FBWxtT3l"
      }
    },
    {
      "cell_type": "code",
      "source": [
        "df_small = df_small.fillna(\"Unknown\")\n",
        "df_small = df_small.drop_duplicates()\n",
        "print(\"Cleaned Dataset Shape:\", df_small.shape)\n"
      ],
      "metadata": {
        "colab": {
          "base_uri": "https://localhost:8080/"
        },
        "id": "bEW4GPtztL2E",
        "outputId": "ca2cacbd-e87b-4a1a-ffe4-388e03c0008f"
      },
      "execution_count": 7,
      "outputs": [
        {
          "output_type": "stream",
          "name": "stdout",
          "text": [
            "Cleaned Dataset Shape: (73159, 10)\n"
          ]
        }
      ]
    },
    {
      "cell_type": "markdown",
      "source": [
        "# Generate Insights"
      ],
      "metadata": {
        "id": "OsRfFPi1tcHs"
      }
    },
    {
      "cell_type": "code",
      "source": [
        "print(\"Top 5 Age Groups:\")\n",
        "print(df_small[\"What is your age (# years)?\"].value_counts().head(5))\n",
        "\n",
        "print(\"\\nTop 5 Education Levels:\")\n",
        "print(df_small[\"What is the highest level of formal education that you have attained or plan to attain within the next 2 years?\"].value_counts().head(5))\n",
        "\n",
        "print(\"\\nTop 5 Job Roles:\")\n",
        "print(df_small[\"Select the title most similar to your current role (or most recent title if retired): - Selected Choice\"].value_counts().head(5))\n",
        "\n",
        "print(\"\\nProgramming Languages Usage (Python, R, SQL, Java):\")\n",
        "lang_cols = [\n",
        "    \"What programming languages do you use on a regular basis? (Select all that apply) - Selected Choice - Python\",\n",
        "    \"What programming languages do you use on a regular basis? (Select all that apply) - Selected Choice - R\",\n",
        "    \"What programming languages do you use on a regular basis? (Select all that apply) - Selected Choice - SQL\",\n",
        "    \"What programming languages do you use on a regular basis? (Select all that apply) - Selected Choice - Java\"\n",
        "]\n",
        "\n",
        "for col in lang_cols:\n",
        "    print(f\"{col.split('-')[-1].strip()}: {df_small[col].value_counts().get('Selected', 0)} respondents\")\n"
      ],
      "metadata": {
        "colab": {
          "base_uri": "https://localhost:8080/"
        },
        "id": "b9IrDq8HtjgV",
        "outputId": "8c5b3c7e-c5bd-4e21-c81e-b22598a9b415"
      },
      "execution_count": 8,
      "outputs": [
        {
          "output_type": "stream",
          "name": "stdout",
          "text": [
            "Top 5 Age Groups:\n",
            "What is your age (# years)?\n",
            "25-29    15609\n",
            "30-34    12193\n",
            "22-24    11488\n",
            "35-39     8984\n",
            "18-21     6576\n",
            "Name: count, dtype: int64\n",
            "\n",
            "Top 5 Education Levels:\n",
            "What is the highest level of formal education that you have attained or plan to attain within the next 2 years?\n",
            "Masterâ€™s degree                                                      26745\n",
            "Bachelorâ€™s degree                                                    17763\n",
            "Doctoral degree                                                        11188\n",
            "Master's degree                                                         3894\n",
            "Some college/university study without earning a bachelorâ€™s degree     3775\n",
            "Name: count, dtype: int64\n",
            "\n",
            "Top 5 Job Roles:\n",
            "Select the title most similar to your current role (or most recent title if retired): - Selected Choice\n",
            "Data Scientist       10798\n",
            "Student              10244\n",
            "Software Engineer     7457\n",
            "Other                 6892\n",
            "Data Analyst          6488\n",
            "Name: count, dtype: int64\n",
            "\n",
            "Programming Languages Usage (Python, R, SQL, Java):\n",
            "Python: 0 respondents\n",
            "R: 0 respondents\n",
            "SQL: 0 respondents\n",
            "Java: 0 respondents\n"
          ]
        }
      ]
    },
    {
      "cell_type": "markdown",
      "source": [
        "# Visualization"
      ],
      "metadata": {
        "id": "nr3FmEXMtrae"
      }
    },
    {
      "cell_type": "code",
      "source": [
        "# Age Distribution\n",
        "plt.figure(figsize=(8,5))\n",
        "sns.countplot(\n",
        "    y=\"What is your age (# years)?\",\n",
        "    data=df_small,\n",
        "    order=df_small[\"What is your age (# years)?\"].value_counts().index,\n",
        "    palette=\"viridis\"\n",
        ")\n",
        "plt.title(\"Age Distribution of Respondents\")\n",
        "plt.xlabel(\"Number of Respondents\")\n",
        "plt.ylabel(\"Age Group\")\n",
        "plt.show()\n"
      ],
      "metadata": {
        "colab": {
          "base_uri": "https://localhost:8080/",
          "height": 594
        },
        "id": "4BZ4Kekitw74",
        "outputId": "b0857fb6-3f19-4eaa-957a-eb4710895a7b"
      },
      "execution_count": 9,
      "outputs": [
        {
          "output_type": "stream",
          "name": "stderr",
          "text": [
            "/tmp/ipython-input-13189300.py:3: FutureWarning: \n",
            "\n",
            "Passing `palette` without assigning `hue` is deprecated and will be removed in v0.14.0. Assign the `y` variable to `hue` and set `legend=False` for the same effect.\n",
            "\n",
            "  sns.countplot(\n"
          ]
        },
        {
          "output_type": "display_data",
          "data": {
            "text/plain": [
              "<Figure size 800x500 with 1 Axes>"
            ],
            "image/png": "[encoded data removed]"
          },
          "metadata": {}
        }
      ]
    },
    {
      "cell_type": "code",
      "source": [
        "# Top 5 Job Roles\n",
        "plt.figure(figsize=(8,5))\n",
        "top_jobs = df_small[\"Select the title most similar to your current role (or most recent title if retired): - Selected Choice\"].value_counts().head(5)\n",
        "sns.barplot(x=top_jobs.values, y=top_jobs.index, palette=\"coolwarm\")\n",
        "plt.title(\"Top 5 Job Roles\")\n",
        "plt.xlabel(\"Number of Respondents\")\n",
        "plt.ylabel(\"Job Role\")\n",
        "plt.show()"
      ],
      "metadata": {
        "colab": {
          "base_uri": "https://localhost:8080/",
          "height": 594
        },
        "id": "3p1HZoV3t12v",
        "outputId": "493273f0-258f-4a76-8287-bcecf5a7ae83"
      },
      "execution_count": 10,
      "outputs": [
        {
          "output_type": "stream",
          "name": "stderr",
          "text": [
            "/tmp/ipython-input-3406604280.py:4: FutureWarning: \n",
            "\n",
            "Passing `palette` without assigning `hue` is deprecated and will be removed in v0.14.0. Assign the `y` variable to `hue` and set `legend=False` for the same effect.\n",
            "\n",
            "  sns.barplot(x=top_jobs.values, y=top_jobs.index, palette=\"coolwarm\")\n"
          ]
        },
        {
          "output_type": "display_data",
          "data": {
            "text/plain": [
              "<Figure size 800x500 with 1 Axes>"
            ],
            "image/png": "[encoded data removed]"
          },
          "metadata": {}
        }
      ]
    },
    {
      "cell_type": "code",
      "source": [
        "# Top Programming Languages\n",
        "plt.figure(figsize=(6,4))\n",
        "lang_usage = {}\n",
        "for col in lang_cols:\n",
        "    lang_name = col.split('-')[-1].strip()\n",
        "    lang_usage[lang_name] = df_small[col].value_counts().get(\"Selected\", 0)\n",
        "\n",
        "sns.barplot(x=list(lang_usage.values()), y=list(lang_usage.keys()), palette=\"magma\")\n",
        "plt.title(\"Programming Languages Usage\")\n",
        "plt.xlabel(\"Number of Respondents\")\n",
        "plt.ylabel(\"Language\")\n",
        "plt.show()"
      ],
      "metadata": {
        "colab": {
          "base_uri": "https://localhost:8080/",
          "height": 517
        },
        "id": "xIXdgr-gt5er",
        "outputId": "92982693-a696-4a02-8958-c5b0c0e9e00d"
      },
      "execution_count": 11,
      "outputs": [
        {
          "output_type": "stream",
          "name": "stderr",
          "text": [
            "/tmp/ipython-input-452020391.py:8: FutureWarning: \n",
            "\n",
            "Passing `palette` without assigning `hue` is deprecated and will be removed in v0.14.0. Assign the `y` variable to `hue` and set `legend=False` for the same effect.\n",
            "\n",
            "  sns.barplot(x=list(lang_usage.values()), y=list(lang_usage.keys()), palette=\"magma\")\n"
          ]
        },
        {
          "output_type": "display_data",
          "data": {
            "text/plain": [
              "<Figure size 600x400 with 1 Axes>"
            ],
            "image/png": "[encoded data removed]"
          },
          "metadata": {}
        }
      ]
    },
    {
      "cell_type": "markdown",
      "source": [
        "## Conclusion\n",
        "\n",
        "This project successfully explored and analyzed the Kaggle Data Science Survey (2017–2021).  \n",
        "The dataset was cleaned to handle missing values, duplicates, and inconsistent formatting.  \n",
        "Key insights were extracted, including the most common age groups, education levels, job roles, and programming languages among respondents.  \n",
        "\n",
        "Bonus visualizations were also created to provide an intuitive understanding of the data:\n",
        "- Age distribution\n",
        "- Top 5 job roles\n",
        "- Programming languages usage\n",
        "\n",
        "Through this project, I practiced essential data science skills, including:\n",
        "- Data cleaning and preprocessing with Pandas\n",
        "- Handling categorical variables\n",
        "- Generating insights from real-world survey data\n",
        "- Data visualization with Matplotlib and Seaborn\n",
        "\n",
        "This analysis provides valuable insights into trends and preferences in the data science community across multiple years.\n"
      ],
      "metadata": {
        "id": "zmlO95LNv6fR"
      }
    }
  ]
}